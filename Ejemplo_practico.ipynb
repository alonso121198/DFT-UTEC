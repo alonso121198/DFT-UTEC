{
 "cells": [
  {
   "cell_type": "code",
   "execution_count": null,
   "id": "9788cc14-d4f6-4e0e-bd07-a040008d6713",
   "metadata": {},
   "outputs": [],
   "source": [
    "import numpy as np\n",
    "import matplotlib.pyplot as plt\n",
    "\n",
    "# Señal\n",
    "N = 1000\n",
    "t = np.linspace(0, 2*np.pi, N, endpoint=False)\n",
    "signal = np.sin(t) + 2*np.sin(2*t)\n",
    "\n",
    "# DFT\n",
    "fft_result = np.fft.fft(signal)\n",
    "amplitudes = np.abs(fft_result) / N\n",
    "frequencies = np.fft.fftfreq(N, d=(t[1] - t[0]))\n",
    "\n",
    "# Graficar solo parte positiva\n",
    "plt.stem(frequencies[:N//2], amplitudes[:N//2])\n",
    "plt.xlabel(\"Frecuencia (Hz o ciclos por 2π)\")\n",
    "plt.ylabel(\"Amplitud\")\n",
    "plt.title(\"Espectro de Fourier de la señal\")\n",
    "plt.grid(True)\n",
    "plt.xlim(0, 5)\n",
    "plt.show()"
   ]
  },
  {
   "cell_type": "code",
   "execution_count": null,
   "id": "bbea229f-eac9-43bd-b99f-3481e201915e",
   "metadata": {},
   "outputs": [],
   "source": [
    "from scipy.interpolate import interp1d\n",
    "\n",
    "# 1. Tu señal original\n",
    "theta = tiempo   # tu columna de ángulos (en radianes)\n",
    "accel = acel      # tu columna de aceleración (en m/s²)\n",
    "\n",
    "# 2. Crear malla uniforme en theta\n",
    "N_uniform = 200  # o mismo número que tenés, pero ahora con paso constante\n",
    "theta_uniform = np.linspace(np.min(theta), np.max(theta), N_uniform)\n",
    "\n",
    "# 3. Interpolar la aceleración en esa malla\n",
    "interp = interp1d(theta, accel, kind='cubic')  # o 'linear' si querés algo más simple\n",
    "accel_uniform = interp(theta_uniform)\n",
    "\n",
    "\n",
    "#accel_uniform = accel\n",
    "#theta_uniform = theta\n",
    "\n",
    "# 4. FFT\n",
    "fft_result = np.fft.fft(accel_uniform)\n",
    "amplitudes = np.abs(fft_result) / N_uniform\n",
    "frequencies = np.fft.fftfreq(N_uniform, d=(theta_uniform[1] - theta_uniform[0]))\n",
    "\n",
    "# Aquí insertás el código para detectar armónicos\n",
    "for i, (freq, amp) in enumerate(zip(frequencies[:N_uniform//2], amplitudes[:N_uniform//2])):\n",
    "    if np.isclose(freq, 1.0, atol=0.05):\n",
    "        print(f\"✅ Primer armónico (~1): frecuencia={freq:.3f}, amplitud={amp:.3f}\")\n",
    "    if np.isclose(freq, 2.0, atol=0.05):\n",
    "        print(f\"✅ Segundo armónico (~2): frecuencia={freq:.3f}, amplitud={amp:.3f}\")\n",
    "\n",
    "# 5. Graficar\n",
    "plt.stem(frequencies[:N_uniform // 2], amplitudes[:N_uniform // 2])\n",
    "plt.xlabel(\"Armónico (ciclos por vuelta)\")\n",
    "plt.ylabel(\"Amplitud (m/s²)\")\n",
    "plt.title(\"Armónicos de la aceleración vs ángulo\")\n",
    "#plt.xlim(0, 0.3)\n",
    "plt.grid(True)\n",
    "plt.show()"
   ]
  }
 ],
 "metadata": {
  "kernelspec": {
   "display_name": "Python 3 (ipykernel)",
   "language": "python",
   "name": "python3"
  },
  "language_info": {
   "codemirror_mode": {
    "name": "ipython",
    "version": 3
   },
   "file_extension": ".py",
   "mimetype": "text/x-python",
   "name": "python",
   "nbconvert_exporter": "python",
   "pygments_lexer": "ipython3",
   "version": "3.13.2"
  }
 },
 "nbformat": 4,
 "nbformat_minor": 5
}
