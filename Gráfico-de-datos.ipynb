{
 "cells": [
  {
   "cell_type": "code",
   "execution_count": null,
   "id": "6f6b26be-d341-4734-983a-324326e2e25d",
   "metadata": {},
   "outputs": [],
   "source": [
    "import numpy as np\n",
    "import matplotlib.pyplot as plt"
   ]
  },
  {
   "cell_type": "code",
   "execution_count": null,
   "id": "8cff6a71-09d5-47dc-9a8c-abb376598732",
   "metadata": {},
   "outputs": [],
   "source": [
    "# Graficar\n",
    "fig, axs = plt.subplots(2, 2, figsize=(14, 6), sharex=True)\n",
    "\n",
    "axs[0,0].plot(tiempo, vel_ang, color='blue',label=r\"$\\omega$\")\n",
    "axs[0,0].set_ylabel(r'$\\omega(t)$')\n",
    "axs[0,0].set_xlabel(r'$(t)$')\n",
    "axs[0,0].legend()\n",
    "axs[0,0].grid()\n",
    "axs[0,0].set_title(r'Velocidad angular')\n",
    "\n",
    "axs[0,1].plot(tiempo, posicion, color='red',label=r\"$x$\")\n",
    "axs[0,1].set_ylabel(r'$x(t)$')\n",
    "axs[0,1].set_xlabel(r'$(t)$')\n",
    "axs[0,1].legend()\n",
    "axs[0,1].grid()\n",
    "axs[0,1].set_title(r'Posición')\n",
    "\n",
    "axs[1,0].plot(tiempo, vel, color='green',label=r\"$v$\")\n",
    "axs[1,0].set_ylabel(r'$v(t)$')\n",
    "axs[1,0].set_xlabel(r'$(t)$')\n",
    "axs[1,0].legend()\n",
    "axs[1,0].grid()\n",
    "axs[1,0].set_title(r'velocidad')\n",
    "\n",
    "axs[1,1].plot(tiempo, acel, color='black',label=r\"$a$\")\n",
    "axs[1,1].set_ylabel(r'$a(t)$')\n",
    "axs[1,1].set_xlabel(r'$(t)$')\n",
    "axs[1,1].legend()\n",
    "axs[1,1].grid()\n",
    "axs[1,1].set_title(r'aceleración')\n",
    "\n",
    "\n",
    "plt.plot()"
   ]
  },
  {
   "cell_type": "code",
   "execution_count": null,
   "id": "3b7de943-dbe8-4f17-8d88-d440630e8f89",
   "metadata": {},
   "outputs": [],
   "source": []
  },
  {
   "cell_type": "code",
   "execution_count": null,
   "id": "7037ebf0-3bf4-43be-a9b6-3338e62b8a90",
   "metadata": {},
   "outputs": [],
   "source": []
  }
 ],
 "metadata": {
  "kernelspec": {
   "display_name": "Python 3 (ipykernel)",
   "language": "python",
   "name": "python3"
  },
  "language_info": {
   "codemirror_mode": {
    "name": "ipython",
    "version": 3
   },
   "file_extension": ".py",
   "mimetype": "text/x-python",
   "name": "python",
   "nbconvert_exporter": "python",
   "pygments_lexer": "ipython3",
   "version": "3.13.2"
  }
 },
 "nbformat": 4,
 "nbformat_minor": 5
}
