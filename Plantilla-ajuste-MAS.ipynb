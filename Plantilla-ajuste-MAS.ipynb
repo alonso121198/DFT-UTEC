{
 "cells": [
  {
   "cell_type": "markdown",
   "metadata": {},
   "source": [
    "# 🎯 Ejemplo de ajuste no lineal del Movimiento Armónico Simple (M.A.S.)\n",
    "\n",
    "En esta notebook aprenderás a:\n",
    "- Cargar tus datos experimentales desde un archivo `.txt` exportado de Logger Pro\n",
    "- Acotar el intervalo de análisis a un tramo aproximadamente periódico\n",
    "- Ajustar las ecuaciones del Movimiento Armónico Simple (M.A.S.)\n",
    "- Visualizar y comparar tus datos con el modelo ajustado\n",
    "\n",
    "---"
   ]
  },
  {
   "cell_type": "code",
   "execution_count": null,
   "metadata": {},
   "outputs": [],
   "source": [
    "# 📥 Carga de datos desde archivo exportado\n",
    "import numpy as np\n",
    "\n",
    "# Ruta del archivo .txt exportado desde Logger Pro\n",
    "ruta_archivo = \"Datos-prueba/biela-manivela-20Hz-22-05-2024.txt\"\n",
    "\n",
    "# Cargar el archivo (ajustar skip_header si es necesario)\n",
    "data = np.genfromtxt(ruta_archivo, skip_header=7)\n",
    "\n",
    "# Verifica las primeras filas\n",
    "print(\"Primeras filas del archivo completo:\")\n",
    "print(data[:5])"
   ]
  },
  {
   "cell_type": "code",
   "execution_count": null,
   "metadata": {},
   "outputs": [],
   "source": [
    "# 🔍 Acotado de datos por intervalo de tiempo\n",
    "# Elegimos un intervalo donde la señal de aceleración sea aproximadamente periódica\n",
    "\n",
    "t_total = data[:, 0]  # columna de tiempo\n",
    "\n",
    "# Define el rango de tiempo (ajustable por el alumno)\n",
    "t_min = 1.0\n",
    "t_max = 3.0\n",
    "\n",
    "# Crear máscara y aplicar\n",
    "mascara = (t_total >= t_min) & (t_total <= t_max)\n",
    "datos = data[mascara]\n",
    "\n",
    "# Separar columnas\n",
    "t, theta, omega, alpha, x, v, a = datos.T\n",
    "\n",
    "print(f\"Datos acotados entre t = {t_min}s y {t_max}s. Total de muestras: {len(t)}\")"
   ]
  },
  {
   "cell_type": "code",
   "execution_count": null,
   "metadata": {},
   "outputs": [],
   "source": [
    "# 🧮 Ajuste no lineal de x(t) usando modelo del M.A.S.\n",
    "import matplotlib.pyplot as plt\n",
    "from scipy.optimize import curve_fit\n",
    "\n",
    "def x_mas(t, A0, A, w, phi):\n",
    "    return A0 + A * np.cos(w * t + phi)\n",
    "\n",
    "# Estimar valores iniciales\n",
    "A0_est = (np.max(x) + np.min(x)) / 2\n",
    "A_est = (np.max(x) - np.min(x)) / 2\n",
    "w_est = 2 * np.pi  # Hz = 1 ciclo/seg\n",
    "\n",
    "p0 = [A0_est, A_est, w_est, 0]\n",
    "popt, _ = curve_fit(x_mas, t, x, p0=p0)\n",
    "\n",
    "# Valores ajustados\n",
    "A0_fit, A_fit, w_fit, phi_fit = popt\n",
    "print(f\"A0 = {A0_fit:.4f}, A = {A_fit:.4f}, ω = {w_fit:.4f}, φ = {phi_fit:.4f}\")"
   ]
  },
  {
   "cell_type": "code",
   "execution_count": null,
   "metadata": {},
   "outputs": [],
   "source": [
    "# 📈 Gráfica de comparación\n",
    "x_ajustada = x_mas(t, *popt)\n",
    "\n",
    "plt.figure(figsize=(10, 4))\n",
    "plt.plot(t, x, label=\"Datos x(t)\", marker='o', linestyle='', alpha=0.7)\n",
    "plt.plot(t, x_ajustada, label=\"Ajuste M.A.S.\", color='red', linewidth=2)\n",
    "plt.xlabel(\"Tiempo (s)\")\n",
    "plt.ylabel(\"Posición (m)\")\n",
    "plt.title(\"Ajuste no lineal de x(t)\")\n",
    "plt.legend()\n",
    "plt.grid(True)\n",
    "plt.tight_layout()\n",
    "plt.show()"
   ]
  },
  {
   "cell_type": "markdown",
   "metadata": {},
   "source": [
    "## 🧮 Ajuste de velocidad y aceleración\n",
    "\n",
    "Utilizamos las expresiones derivadas del M.A.S. para ajustar los datos de velocidad y aceleración:"
   ]
  },
  {
   "cell_type": "code",
   "execution_count": null,
   "metadata": {},
   "outputs": [],
   "source": [
    "# --- Definiciones de funciones ---\n",
    "def v_mas(t, A, w, phi):\n",
    "    return -w * A * np.sin(w * t + phi)\n",
    "\n",
    "def a_mas(t, A, w, phi):\n",
    "    return -w**2 * A * np.cos(w * t + phi)\n",
    "\n",
    "# --- Ajuste de velocidad ---\n",
    "popt_v, _ = curve_fit(v_mas, t, v, p0=[A_fit, w_fit, phi_fit])\n",
    "v_ajustada = v_mas(t, *popt_v)\n",
    "\n",
    "# --- Ajuste de aceleración ---\n",
    "popt_a, _ = curve_fit(a_mas, t, a, p0=[A_fit, w_fit, phi_fit])\n",
    "a_ajustada = a_mas(t, *popt_a)\n",
    "\n",
    "# Mostrar parámetros\n",
    "print(\"Parámetros del ajuste de velocidad: A = {:.4f}, ω = {:.4f}, φ = {:.4f}\".format(*popt_v))\n",
    "print(\"Parámetros del ajuste de aceleración: A = {:.4f}, ω = {:.4f}, φ = {:.4f}\".format(*popt_a))"
   ]
  },
  {
   "cell_type": "code",
   "execution_count": null,
   "metadata": {},
   "outputs": [],
   "source": [
    "# --- Gráficas comparativas ---\n",
    "fig, axs = plt.subplots(2, 1, figsize=(10, 6), sharex=True)\n",
    "\n",
    "# Velocidad\n",
    "axs[0].plot(t, v, label=\"Datos v(t)\", marker='o', linestyle='', alpha=0.6)\n",
    "axs[0].plot(t, v_ajustada, label=\"Ajuste M.A.S.\", color='green')\n",
    "axs[0].set_ylabel(\"Velocidad (m/s)\")\n",
    "axs[0].legend()\n",
    "axs[0].grid(True)\n",
    "\n",
    "# Aceleración\n",
    "axs[1].plot(t, a, label=\"Datos a(t)\", marker='o', linestyle='', alpha=0.6)\n",
    "axs[1].plot(t, a_ajustada, label=\"Ajuste M.A.S.\", color='red')\n",
    "axs[1].set_ylabel(\"Aceleración (m/s²)\")\n",
    "axs[1].set_xlabel(\"Tiempo (s)\")\n",
    "axs[1].legend()\n",
    "axs[1].grid(True)\n",
    "\n",
    "plt.suptitle(\"Ajuste de velocidad y aceleración (M.A.S.)\")\n",
    "plt.tight_layout()\n",
    "plt.show()"
   ]
  }
 ],
 "metadata": {
  "kernelspec": {
   "display_name": "Python 3 (ipykernel)",
   "language": "python",
   "name": "python3"
  },
  "language_info": {
   "codemirror_mode": {
    "name": "ipython",
    "version": 3
   },
   "file_extension": ".py",
   "mimetype": "text/x-python",
   "name": "python",
   "nbconvert_exporter": "python",
   "pygments_lexer": "ipython3",
   "version": "3.13.2"
  }
 },
 "nbformat": 4,
 "nbformat_minor": 4
}
