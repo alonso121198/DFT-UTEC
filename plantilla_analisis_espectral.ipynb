{
 "cells": [
  {
   "cell_type": "markdown",
   "id": "a531be22",
   "metadata": {},
   "source": [
    "# 📊 Análisis espectral de la aceleración\n",
    "Esta plantilla te ayudará a:\n",
    "- Cargar una señal de aceleración vs tiempo\n",
    "- Aplicar la Transformada Discreta de Fourier (DFT)\n",
    "- Identificar los armónicos dominantes\n",
    "- Reconstruir la señal con los primeros armónicos\n",
    "\n",
    "👉 Asegúrate de tener tus datos en un archivo `.txt` o `.csv` con columnas de tiempo y aceleración."
   ]
  },
  {
   "cell_type": "code",
   "execution_count": null,
   "id": "b7f27642",
   "metadata": {},
   "outputs": [],
   "source": [
    "# ✅ Librerías necesarias\n",
    "import numpy as np\n",
    "import pandas as pd\n",
    "import matplotlib.pyplot as plt\n",
    "from scipy.fft import fft, fftfreq\n",
    "\n",
    "# Configuración de gráficos\n",
    "plt.rcParams['figure.figsize'] = (12, 5)\n"
   ]
  },
  {
   "cell_type": "markdown",
   "id": "019e40fa",
   "metadata": {},
   "source": [
    "## 📁 1. Cargar archivo de datos\n",
    "Modifica esta celda para que apunte a tu archivo de datos con columnas de tiempo y aceleración."
   ]
  },
  {
   "cell_type": "code",
   "execution_count": null,
   "id": "a9921f82",
   "metadata": {},
   "outputs": [],
   "source": [
    "# Cargar datos desde archivo\n",
    "# Reemplaza 'archivo.txt' con el nombre de tu archivo\n",
    "df = pd.read_csv(\"Datos-prueba/biela-manivela-20Hz-22-05-2024.txt\", sep=\"\\t\", skiprows=5)\n",
    "df.columns = ['Tiempo','Ángulo', 'Velocidad1', 'Aceleración1', 'Posición','Velocidad2','Aceleración2']\n",
    "\n",
    "# Visualizar las primeras filas\n",
    "df.head()"
   ]
  },
  {
   "cell_type": "markdown",
   "id": "82b90b01",
   "metadata": {},
   "source": [
    "## 🔍 2. Seleccionar intervalo aproximadamente periódico\n",
    "Selecciona una parte de la señal donde se vea un comportamiento cíclico."
   ]
  },
  {
   "cell_type": "code",
   "execution_count": null,
   "id": "ed7199ba",
   "metadata": {},
   "outputs": [],
   "source": [
    "# Acotar datos a un intervalo periódico\n",
    "inicio, fin = 1, 8  # segundos\n",
    "mask = (df['Tiempo'] >= inicio) & (df['Tiempo'] <= fin)\n",
    "t = df.loc[mask, 'Tiempo'].values\n",
    "a = df.loc[mask, 'Aceleración2'].values\n",
    "\n",
    "# Mostrar la señal\n",
    "plt.plot(t, a)\n",
    "plt.title(\"Aceleración vs Tiempo (segmento seleccionado)\")\n",
    "plt.xlabel(\"Tiempo (s)\")\n",
    "plt.ylabel(\"Aceleración (m/s²)\")\n",
    "#plt.xticks(np.arange(t[0], t[-1], 1))  # marcas cada 0.1 segundos\n",
    "plt.grid()\n",
    "plt.show()"
   ]
  },
  {
   "cell_type": "markdown",
   "id": "2be77c5f",
   "metadata": {},
   "source": [
    "## ⚙️ 3. Calcular la DFT y obtener el espectro de amplitudes"
   ]
  },
  {
   "cell_type": "code",
   "execution_count": null,
   "id": "8770d447",
   "metadata": {},
   "outputs": [],
   "source": [
    "# Parámetros de muestreo\n",
    "N = len(t)\n",
    "T = t[1] - t[0]\n",
    "print(T)\n",
    "f_s = 1 / T # Frecuencia de muestreo \n",
    "\n",
    "# FFT\n",
    "yf = fft(a)\n",
    "xf = fftfreq(N, T)[:N // 2]\n",
    "amplitudes = 2.0 / N * np.abs(yf[:N // 2])\n",
    "\n",
    "# Espectro\n",
    "plt.stem(xf, amplitudes)\n",
    "plt.title(\"Espectro de Fourier\")\n",
    "plt.xlabel(\"Frecuencia (Hz) ó ciclos por segundo\")\n",
    "plt.ylabel(\"Amplitud\")\n",
    "#plt.xlim(0, 25)\n",
    "plt.grid()\n",
    "plt.show()"
   ]
  },
  {
   "cell_type": "markdown",
   "id": "fad6db44",
   "metadata": {},
   "source": [
    "## 📌 4. Identificar los dos primeros armónicos dominantes"
   ]
  },
  {
   "cell_type": "code",
   "execution_count": null,
   "id": "ca3fcf7d",
   "metadata": {},
   "outputs": [],
   "source": [
    "# FFT previa: asume que ya tienes xf y amplitudes\n",
    "threshold = np.max(amplitudes) * 0.1\n",
    "rango_frecuencias = (xf >= 0) & (xf <= 2.5)\n",
    "condicion = (amplitudes > threshold) & rango_frecuencias\n",
    "\n",
    "filtered_freqs = xf[condicion]\n",
    "filtered_amps = amplitudes[condicion]\n",
    "\n",
    "# Crear tabla ordenada por frecuencia (no por amplitud)\n",
    "dominant_df_filtered = pd.DataFrame({\n",
    "    \"Frecuencia (Hz)\": filtered_freqs,\n",
    "    \"Amplitud\": filtered_amps\n",
    "}).sort_values(by=\"Frecuencia (Hz)\").reset_index(drop=True)\n",
    "\n",
    "# Mostrar la tabla\n",
    "print(dominant_df_filtered.head())"
   ]
  },
  {
   "cell_type": "code",
   "execution_count": null,
   "id": "7e4b179a-2545-4ff1-93e7-0b7f41f9f10b",
   "metadata": {},
   "outputs": [],
   "source": [
    "dominant_df_filtered"
   ]
  },
  {
   "cell_type": "markdown",
   "id": "61985067",
   "metadata": {},
   "source": [
    "## 🧱 5. Reconstrucción de la señal con los dos primeros armónicos"
   ]
  },
  {
   "cell_type": "code",
   "execution_count": null,
   "id": "af7b0322",
   "metadata": {},
   "outputs": [],
   "source": [
    "# Reconstrucción con las dos primeras frecuencias físicas ordenadas\n",
    "phases = np.angle(yf)\n",
    "reconstructed = np.zeros_like(t)\n",
    "\n",
    "for f in dominant_df_filtered[\"Frecuencia (Hz)\"].head(2):  # solo las dos primeras por frecuencia\n",
    "    idx = np.argmin(np.abs(xf - f))\n",
    "    A = amplitudes[idx]\n",
    "    phi = phases[idx]\n",
    "    print(phi)\n",
    "    reconstructed += A * np.cos(2 * np.pi * f * t + phi)\n",
    "\n",
    "# Comparación visual\n",
    "plt.plot(t, a, label=\"Original\")\n",
    "plt.plot(t, reconstructed, label=\"Reconstruida (2 armónicos)\", linestyle=\"--\")\n",
    "plt.title(\"Reconstrucción de la señal con primer y segundo armónico (filtrados)\")\n",
    "plt.xlabel(\"Tiempo (s)\")\n",
    "plt.ylabel(\"Aceleración (a.u.)\")\n",
    "plt.legend()\n",
    "plt.grid()\n",
    "plt.show()\n",
    "display(dominant_df_filtered)"
   ]
  },
  {
   "cell_type": "markdown",
   "id": "80d67f90",
   "metadata": {},
   "source": [
    "## ✏️ 6. Conclusión\n",
    "Comenta lo siguiente:\n",
    "- ¿Qué tan bien se aproxima la reconstrucción a la señal original?\n",
    "- ¿Qué información se pierde?\n",
    "- ¿Los armónicos encontrados tienen sentido físico?\n",
    "- ¿Hay otros picos en el espectro? ¿Podrían deberse a ruido o efectos mecánicos del sistema?"
   ]
  }
 ],
 "metadata": {
  "kernelspec": {
   "display_name": "Python 3 (ipykernel)",
   "language": "python",
   "name": "python3"
  },
  "language_info": {
   "codemirror_mode": {
    "name": "ipython",
    "version": 3
   },
   "file_extension": ".py",
   "mimetype": "text/x-python",
   "name": "python",
   "nbconvert_exporter": "python",
   "pygments_lexer": "ipython3",
   "version": "3.13.2"
  }
 },
 "nbformat": 4,
 "nbformat_minor": 5
}
