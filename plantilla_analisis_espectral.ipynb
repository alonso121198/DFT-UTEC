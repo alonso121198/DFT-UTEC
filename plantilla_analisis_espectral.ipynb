{
 "cells": [
  {
   "cell_type": "markdown",
   "id": "a531be22",
   "metadata": {},
   "source": [
    "# 📊 Análisis espectral de la aceleración\n",
    "Esta plantilla te ayudará a:\n",
    "- Cargar una señal de aceleración vs tiempo\n",
    "- Aplicar la Transformada Discreta de Fourier (DFT)\n",
    "- Identificar los armónicos dominantes\n",
    "- Reconstruir la señal con los primeros armónicos\n",
    "\n",
    "👉 Asegúrate de tener tus datos en un archivo `.txt` o `.csv` con columnas de tiempo y aceleración."
   ]
  },
  {
   "cell_type": "code",
   "execution_count": null,
   "id": "b7f27642",
   "metadata": {},
   "outputs": [],
   "source": [
    "# ✅ Librerías necesarias\n",
    "import numpy as np\n",
    "import pandas as pd\n",
    "import matplotlib.pyplot as plt\n",
    "from scipy.fft import fft, fftfreq\n",
    "\n",
    "# Configuración de gráficos\n",
    "plt.rcParams['figure.figsize'] = (12, 5)\n"
   ]
  },
  {
   "cell_type": "markdown",
   "id": "019e40fa",
   "metadata": {},
   "source": [
    "## 📁 1. Cargar archivo de datos\n",
    "Modifica esta celda para que apunte a tu archivo de datos con columnas de tiempo y aceleración."
   ]
  },
  {
   "cell_type": "code",
   "execution_count": null,
   "id": "a9921f82",
   "metadata": {},
   "outputs": [],
   "source": [
    "# Cargar datos desde archivo\n",
    "# Reemplaza 'archivo.txt' con el nombre de tu archivo\n",
    "df = pd.read_csv(\"archivo.txt\", sep=\"\\t\", skiprows=2)\n",
    "df.columns = ['Tiempo', 'Ángulo', 'Velocidad1', 'Aceleración1', 'Posición', 'Velocidad2', 'Aceleración2']\n",
    "\n",
    "# Visualizar las primeras filas\n",
    "df.head()"
   ]
  },
  {
   "cell_type": "markdown",
   "id": "82b90b01",
   "metadata": {},
   "source": [
    "## 🔍 2. Seleccionar intervalo aproximadamente periódico\n",
    "Selecciona una parte de la señal donde se vea un comportamiento cíclico."
   ]
  },
  {
   "cell_type": "code",
   "execution_count": null,
   "id": "ed7199ba",
   "metadata": {},
   "outputs": [],
   "source": [
    "# Acotar datos a un intervalo periódico\n",
    "inicio, fin = 2, 6  # segundos\n",
    "mask = (df['Tiempo'] >= inicio) & (df['Tiempo'] <= fin)\n",
    "t = df.loc[mask, 'Tiempo'].values\n",
    "a = df.loc[mask, 'Aceleración1'].values\n",
    "\n",
    "# Mostrar la señal\n",
    "plt.plot(t, a)\n",
    "plt.title(\"Aceleración vs Tiempo (segmento seleccionado)\")\n",
    "plt.xlabel(\"Tiempo (s)\")\n",
    "plt.ylabel(\"Aceleración (rad/s²)\")\n",
    "plt.grid()\n",
    "plt.show()"
   ]
  },
  {
   "cell_type": "markdown",
   "id": "2be77c5f",
   "metadata": {},
   "source": [
    "## ⚙️ 3. Calcular la DFT y obtener el espectro de amplitudes"
   ]
  },
  {
   "cell_type": "code",
   "execution_count": null,
   "id": "8770d447",
   "metadata": {},
   "outputs": [],
   "source": [
    "# Parámetros de muestreo\n",
    "N = len(t)\n",
    "T = t[1] - t[0]\n",
    "f_s = 1 / T\n",
    "\n",
    "# FFT\n",
    "yf = fft(a)\n",
    "xf = fftfreq(N, T)[:N // 2]\n",
    "amplitudes = 2.0 / N * np.abs(yf[:N // 2])\n",
    "\n",
    "# Espectro\n",
    "plt.stem(xf, amplitudes, use_line_collection=True)\n",
    "plt.title(\"Espectro de Fourier\")\n",
    "plt.xlabel(\"Frecuencia (Hz)\")\n",
    "plt.ylabel(\"Amplitud\")\n",
    "plt.xlim(0, 25)\n",
    "plt.grid()\n",
    "plt.show()"
   ]
  },
  {
   "cell_type": "markdown",
   "id": "fad6db44",
   "metadata": {},
   "source": [
    "## 📌 4. Identificar los dos primeros armónicos dominantes"
   ]
  },
  {
   "cell_type": "code",
   "execution_count": null,
   "id": "ca3fcf7d",
   "metadata": {},
   "outputs": [],
   "source": [
    "# Filtrar frecuencias con amplitud significativa\n",
    "threshold = np.max(amplitudes) * 0.2\n",
    "dominant_indices = np.where(amplitudes > threshold)[0]\n",
    "dominant_freqs = xf[dominant_indices]\n",
    "dominant_amps = amplitudes[dominant_indices]\n",
    "\n",
    "# Mostrar tabla\n",
    "dominant_df = pd.DataFrame({\n",
    "    \"Frecuencia (Hz)\": dominant_freqs,\n",
    "    \"Amplitud\": dominant_amps\n",
    "}).sort_values(by=\"Amplitud\", ascending=False)\n",
    "\n",
    "dominant_df.head(5)"
   ]
  },
  {
   "cell_type": "markdown",
   "id": "61985067",
   "metadata": {},
   "source": [
    "## 🧱 5. Reconstrucción de la señal con los dos primeros armónicos"
   ]
  },
  {
   "cell_type": "code",
   "execution_count": null,
   "id": "af7b0322",
   "metadata": {},
   "outputs": [],
   "source": [
    "# Seleccionar las dos frecuencias más fuertes\n",
    "phases = np.angle(yf)\n",
    "top_two = dominant_df.head(2)\n",
    "reconstructed = np.zeros_like(t)\n",
    "\n",
    "for f in top_two[\"Frecuencia (Hz)\"]:\n",
    "    idx = np.argmin(np.abs(xf - f))\n",
    "    A = amplitudes[idx]\n",
    "    phi = phases[idx]\n",
    "    reconstructed += A * np.cos(2 * np.pi * f * t + phi)\n",
    "\n",
    "# Comparación visual\n",
    "plt.plot(t, a, label=\"Original\")\n",
    "plt.plot(t, reconstructed, label=\"Reconstruida (2 armónicos)\", linestyle=\"--\")\n",
    "plt.title(\"Reconstrucción de la señal\")\n",
    "plt.xlabel(\"Tiempo (s)\")\n",
    "plt.ylabel(\"Aceleración (rad/s²)\")\n",
    "plt.legend()\n",
    "plt.grid()\n",
    "plt.show()"
   ]
  },
  {
   "cell_type": "markdown",
   "id": "80d67f90",
   "metadata": {},
   "source": [
    "## ✏️ 6. Conclusión\n",
    "Comenta lo siguiente:\n",
    "- ¿Qué tan bien se aproxima la reconstrucción a la señal original?\n",
    "- ¿Qué información se pierde?\n",
    "- ¿Los armónicos encontrados tienen sentido físico?\n",
    "- ¿Hay otros picos en el espectro? ¿Podrían deberse a ruido o efectos mecánicos del sistema?"
   ]
  }
 ],
 "metadata": {
  "kernelspec": {
   "display_name": "Python 3 (ipykernel)",
   "language": "python",
   "name": "python3"
  },
  "language_info": {
   "codemirror_mode": {
    "name": "ipython",
    "version": 3
   },
   "file_extension": ".py",
   "mimetype": "text/x-python",
   "name": "python",
   "nbconvert_exporter": "python",
   "pygments_lexer": "ipython3",
   "version": "3.13.2"
  }
 },
 "nbformat": 4,
 "nbformat_minor": 5
}
