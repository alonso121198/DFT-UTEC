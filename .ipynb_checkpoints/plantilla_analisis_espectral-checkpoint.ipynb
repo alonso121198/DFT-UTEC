{
 "cells": [
  {
   "cell_type": "markdown",
   "id": "a531be22",
   "metadata": {},
   "source": [
    "# 📊 Análisis espectral de la aceleración\n",
    "Esta plantilla te ayudará a:\n",
    "- Cargar una señal de aceleración vs tiempo\n",
    "- Aplicar la Transformada Discreta de Fourier (DFT)\n",
    "- Identificar los armónicos dominantes\n",
    "- Reconstruir la señal con los primeros armónicos\n",
    "\n",
    "👉 Asegúrate de tener tus datos en un archivo `.txt` o `.csv` con columnas de tiempo y aceleración."
   ]
  },
  {
   "cell_type": "code",
   "execution_count": 1,
   "id": "b7f27642",
   "metadata": {},
   "outputs": [],
   "source": [
    "# ✅ Librerías necesarias\n",
    "import numpy as np\n",
    "import pandas as pd\n",
    "import matplotlib.pyplot as plt\n",
    "from scipy.fft import fft, fftfreq\n",
    "\n",
    "# Configuración de gráficos\n",
    "plt.rcParams['figure.figsize'] = (12, 5)\n"
   ]
  },
  {
   "cell_type": "markdown",
   "id": "019e40fa",
   "metadata": {},
   "source": [
    "## 📁 1. Cargar archivo de datos\n",
    "Modifica esta celda para que apunte a tu archivo de datos con columnas de tiempo y aceleración."
   ]
  },
  {
   "cell_type": "code",
   "execution_count": 5,
   "id": "a9921f82",
   "metadata": {},
   "outputs": [
    {
     "data": {
      "text/html": [
       "<div>\n",
       "<style scoped>\n",
       "    .dataframe tbody tr th:only-of-type {\n",
       "        vertical-align: middle;\n",
       "    }\n",
       "\n",
       "    .dataframe tbody tr th {\n",
       "        vertical-align: top;\n",
       "    }\n",
       "\n",
       "    .dataframe thead th {\n",
       "        text-align: right;\n",
       "    }\n",
       "</style>\n",
       "<table border=\"1\" class=\"dataframe\">\n",
       "  <thead>\n",
       "    <tr style=\"text-align: right;\">\n",
       "      <th></th>\n",
       "      <th>Tiempo</th>\n",
       "      <th>Ángulo</th>\n",
       "      <th>Velocidad1</th>\n",
       "      <th>Aceleración1</th>\n",
       "      <th>Posición</th>\n",
       "      <th>Velocidad2</th>\n",
       "      <th>Aceleración2</th>\n",
       "    </tr>\n",
       "  </thead>\n",
       "  <tbody>\n",
       "    <tr>\n",
       "      <th>0</th>\n",
       "      <td>0.04</td>\n",
       "      <td>-0.174533</td>\n",
       "      <td>-4.848137</td>\n",
       "      <td>-5.901933</td>\n",
       "      <td>0.341114</td>\n",
       "      <td>-0.307985</td>\n",
       "      <td>0.155339</td>\n",
       "    </tr>\n",
       "    <tr>\n",
       "      <th>1</th>\n",
       "      <td>0.08</td>\n",
       "      <td>-0.366519</td>\n",
       "      <td>-5.005701</td>\n",
       "      <td>-8.465722</td>\n",
       "      <td>0.328765</td>\n",
       "      <td>-0.304948</td>\n",
       "      <td>0.321918</td>\n",
       "    </tr>\n",
       "    <tr>\n",
       "      <th>2</th>\n",
       "      <td>0.12</td>\n",
       "      <td>-0.558505</td>\n",
       "      <td>-5.395976</td>\n",
       "      <td>-11.266868</td>\n",
       "      <td>0.316418</td>\n",
       "      <td>-0.294265</td>\n",
       "      <td>0.664885</td>\n",
       "    </tr>\n",
       "    <tr>\n",
       "      <th>3</th>\n",
       "      <td>0.16</td>\n",
       "      <td>-0.785398</td>\n",
       "      <td>-6.035930</td>\n",
       "      <td>-10.691152</td>\n",
       "      <td>0.304584</td>\n",
       "      <td>-0.264634</td>\n",
       "      <td>1.281428</td>\n",
       "    </tr>\n",
       "    <tr>\n",
       "      <th>4</th>\n",
       "      <td>0.20</td>\n",
       "      <td>-1.047198</td>\n",
       "      <td>-6.520744</td>\n",
       "      <td>-3.252292</td>\n",
       "      <td>0.293951</td>\n",
       "      <td>-0.196868</td>\n",
       "      <td>2.009509</td>\n",
       "    </tr>\n",
       "  </tbody>\n",
       "</table>\n",
       "</div>"
      ],
      "text/plain": [
       "   Tiempo    Ángulo  Velocidad1  Aceleración1  Posición  Velocidad2  \\\n",
       "0    0.04 -0.174533   -4.848137     -5.901933  0.341114   -0.307985   \n",
       "1    0.08 -0.366519   -5.005701     -8.465722  0.328765   -0.304948   \n",
       "2    0.12 -0.558505   -5.395976    -11.266868  0.316418   -0.294265   \n",
       "3    0.16 -0.785398   -6.035930    -10.691152  0.304584   -0.264634   \n",
       "4    0.20 -1.047198   -6.520744     -3.252292  0.293951   -0.196868   \n",
       "\n",
       "   Aceleración2  \n",
       "0      0.155339  \n",
       "1      0.321918  \n",
       "2      0.664885  \n",
       "3      1.281428  \n",
       "4      2.009509  "
      ]
     },
     "execution_count": 5,
     "metadata": {},
     "output_type": "execute_result"
    }
   ],
   "source": [
    "# Cargar datos desde archivo\n",
    "# Reemplaza 'archivo.txt' con el nombre de tu archivo\n",
    "df = pd.read_csv(\"../datos-biela-manivela.txt\", sep=\"\\t\", skiprows=2)\n",
    "df.columns = ['Tiempo', 'Ángulo', 'Velocidad1', 'Aceleración1', 'Posición', 'Velocidad2', 'Aceleración2']\n",
    "\n",
    "# Visualizar las primeras filas\n",
    "df.head()"
   ]
  },
  {
   "cell_type": "markdown",
   "id": "82b90b01",
   "metadata": {},
   "source": [
    "## 🔍 2. Seleccionar intervalo aproximadamente periódico\n",
    "Selecciona una parte de la señal donde se vea un comportamiento cíclico."
   ]
  },
  {
   "cell_type": "code",
   "execution_count": null,
   "id": "ed7199ba",
   "metadata": {},
   "outputs": [],
   "source": [
    "# Acotar datos a un intervalo periódico\n",
    "inicio, fin = 2, 6  # segundos\n",
    "mask = (df['Tiempo'] >= inicio) & (df['Tiempo'] <= fin)\n",
    "t = df.loc[mask, 'Tiempo'].values\n",
    "a = df.loc[mask, 'Aceleración1'].values\n",
    "\n",
    "# Mostrar la señal\n",
    "plt.plot(t, a)\n",
    "plt.title(\"Aceleración vs Tiempo (segmento seleccionado)\")\n",
    "plt.xlabel(\"Tiempo (s)\")\n",
    "plt.ylabel(\"Aceleración (rad/s²)\")\n",
    "plt.grid()\n",
    "plt.show()"
   ]
  },
  {
   "cell_type": "markdown",
   "id": "2be77c5f",
   "metadata": {},
   "source": [
    "## ⚙️ 3. Calcular la DFT y obtener el espectro de amplitudes"
   ]
  },
  {
   "cell_type": "code",
   "execution_count": null,
   "id": "8770d447",
   "metadata": {},
   "outputs": [],
   "source": [
    "# Parámetros de muestreo\n",
    "N = len(t)\n",
    "T = t[1] - t[0]\n",
    "f_s = 1 / T\n",
    "\n",
    "# FFT\n",
    "yf = fft(a)\n",
    "xf = fftfreq(N, T)[:N // 2]\n",
    "amplitudes = 2.0 / N * np.abs(yf[:N // 2])\n",
    "\n",
    "# Espectro\n",
    "plt.stem(xf, amplitudes, use_line_collection=True)\n",
    "plt.title(\"Espectro de Fourier\")\n",
    "plt.xlabel(\"Frecuencia (Hz)\")\n",
    "plt.ylabel(\"Amplitud\")\n",
    "plt.xlim(0, 25)\n",
    "plt.grid()\n",
    "plt.show()"
   ]
  },
  {
   "cell_type": "markdown",
   "id": "fad6db44",
   "metadata": {},
   "source": [
    "## 📌 4. Identificar los dos primeros armónicos dominantes"
   ]
  },
  {
   "cell_type": "code",
   "execution_count": null,
   "id": "ca3fcf7d",
   "metadata": {},
   "outputs": [],
   "source": [
    "# Filtrar frecuencias con amplitud significativa\n",
    "threshold = np.max(amplitudes) * 0.2\n",
    "dominant_indices = np.where(amplitudes > threshold)[0]\n",
    "dominant_freqs = xf[dominant_indices]\n",
    "dominant_amps = amplitudes[dominant_indices]\n",
    "\n",
    "# Mostrar tabla\n",
    "dominant_df = pd.DataFrame({\n",
    "    \"Frecuencia (Hz)\": dominant_freqs,\n",
    "    \"Amplitud\": dominant_amps\n",
    "}).sort_values(by=\"Amplitud\", ascending=False)\n",
    "\n",
    "dominant_df.head(5)"
   ]
  },
  {
   "cell_type": "markdown",
   "id": "61985067",
   "metadata": {},
   "source": [
    "## 🧱 5. Reconstrucción de la señal con los dos primeros armónicos"
   ]
  },
  {
   "cell_type": "code",
   "execution_count": null,
   "id": "af7b0322",
   "metadata": {},
   "outputs": [],
   "source": [
    "# Seleccionar las dos frecuencias más fuertes\n",
    "phases = np.angle(yf)\n",
    "top_two = dominant_df.head(2)\n",
    "reconstructed = np.zeros_like(t)\n",
    "\n",
    "for f in top_two[\"Frecuencia (Hz)\"]:\n",
    "    idx = np.argmin(np.abs(xf - f))\n",
    "    A = amplitudes[idx]\n",
    "    phi = phases[idx]\n",
    "    reconstructed += A * np.cos(2 * np.pi * f * t + phi)\n",
    "\n",
    "# Comparación visual\n",
    "plt.plot(t, a, label=\"Original\")\n",
    "plt.plot(t, reconstructed, label=\"Reconstruida (2 armónicos)\", linestyle=\"--\")\n",
    "plt.title(\"Reconstrucción de la señal\")\n",
    "plt.xlabel(\"Tiempo (s)\")\n",
    "plt.ylabel(\"Aceleración (rad/s²)\")\n",
    "plt.legend()\n",
    "plt.grid()\n",
    "plt.show()"
   ]
  },
  {
   "cell_type": "markdown",
   "id": "80d67f90",
   "metadata": {},
   "source": [
    "## ✏️ 6. Conclusión\n",
    "Comenta lo siguiente:\n",
    "- ¿Qué tan bien se aproxima la reconstrucción a la señal original?\n",
    "- ¿Qué información se pierde?\n",
    "- ¿Los armónicos encontrados tienen sentido físico?\n",
    "- ¿Hay otros picos en el espectro? ¿Podrían deberse a ruido o efectos mecánicos del sistema?"
   ]
  }
 ],
 "metadata": {
  "kernelspec": {
   "display_name": "Python 3 (ipykernel)",
   "language": "python",
   "name": "python3"
  },
  "language_info": {
   "codemirror_mode": {
    "name": "ipython",
    "version": 3
   },
   "file_extension": ".py",
   "mimetype": "text/x-python",
   "name": "python",
   "nbconvert_exporter": "python",
   "pygments_lexer": "ipython3",
   "version": "3.13.2"
  }
 },
 "nbformat": 4,
 "nbformat_minor": 5
}
